{
 "cells": [
  {
   "cell_type": "code",
   "execution_count": 5,
   "metadata": {},
   "outputs": [],
   "source": [
    "import pandas as pd\n",
    "import numpy as np\n",
    "data = pd.read_csv('./Drinks.csv')\n",
    "\n",
    "def softmax(x):\n",
    "    exps = [np.exp(i) for i in x]\n",
    "    return [j/np.sum(exps) for j in exps]\n"
   ]
  },
  {
   "cell_type": "code",
   "execution_count": 3,
   "metadata": {},
   "outputs": [],
   "source": [
    "class NeuralNetwork :\n",
    "    #y actual output\n",
    "    #output neural network result\n",
    "    \n",
    "    def __init__(self, x, y):\n",
    "        self.input      = x\n",
    "        self.weights1   = np.random.rand(self.input.shape[1],8)\n",
    "        self.weights2   = np.random.rand(8,5)\n",
    "        self.weights3   = np.random.rand(5,3)\n",
    "        self.y          = y\n",
    "        self.output     = np.zeros(self.y.shape)\n",
    "\n",
    "    def feedforward(self):\n",
    "        self.layer1 = np.tanh(np.dot(self.input, self.weights1))\n",
    "        self.layer2 = np.tanh(np.dot(self.layer1, self.weights2))\n",
    "        self.output = softmax(np.dot(self.layer2, self.weights3))\n",
    "        \n",
    "        \n",
    "    def backprop(self):\n",
    "        "
   ]
  },
  {
   "cell_type": "code",
   "execution_count": null,
   "metadata": {},
   "outputs": [],
   "source": []
  }
 ],
 "metadata": {
  "kernelspec": {
   "display_name": "Python 3",
   "language": "python",
   "name": "python3"
  }
 },
 "nbformat": 4,
 "nbformat_minor": 2
}
